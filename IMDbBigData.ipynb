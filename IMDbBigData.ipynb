{
  "nbformat": 4,
  "nbformat_minor": 0,
  "metadata": {
    "kernelspec": {
      "display_name": "Python 3",
      "language": "python",
      "name": "python3"
    },
    "language_info": {
      "codemirror_mode": {
        "name": "ipython",
        "version": 3
      },
      "file_extension": ".py",
      "mimetype": "text/x-python",
      "name": "python",
      "nbconvert_exporter": "python",
      "pygments_lexer": "ipython3",
      "version": "3.6.7"
    },
    "colab": {
      "provenance": []
    }
  },
  "cells": [
    {
      "cell_type": "markdown",
      "metadata": {
        "deletable": false,
        "tags": [
          "instructions"
        ],
        "id": "L40eXcn6C1GU"
      },
      "source": [
        "## IMDb Datasets Analysis"
      ]
    },
    {
      "cell_type": "markdown",
      "metadata": {
        "deletable": false,
        "tags": [
          "instructions"
        ],
        "id": "zbZw9WlgC1GZ"
      },
      "source": [
        "* **Collaborators:** Mingrui Zhang\n",
        "* **ID:** 20985422"
      ]
    },
    {
      "cell_type": "code",
      "metadata": {
        "deletable": false,
        "tags": [
          "setup"
        ],
        "id": "NWzWM_87C1Gb"
      },
      "source": [
        "# Java, Spark install\n",
        "!apt-get update -qq > /dev/null\n",
        "!apt-get install openjdk-8-jdk-headless -qq > /dev/null\n",
        "!wget -q https://dlcdn.apache.org/spark/spark-3.2.3/spark-3.2.3-bin-hadoop2.7.tgz\n",
        "!tar xf spark-3.2.3-bin-hadoop2.7.tgz\n",
        "!pip install -q findspark\n",
        "\n",
        "# Download IMDb Datasets and unzip it as tsv files\n",
        "!wget -q https://datasets.imdbws.com/name.basics.tsv.gz\n",
        "!wget -q https://datasets.imdbws.com/title.akas.tsv.gz\n",
        "!wget -q https://datasets.imdbws.com/title.basics.tsv.gz\n",
        "!wget -q https://datasets.imdbws.com/title.crew.tsv.gz\n",
        "!wget -q https://datasets.imdbws.com/title.episode.tsv.gz\n",
        "!wget -q https://datasets.imdbws.com/title.principals.tsv.gz\n",
        "!wget -q https://datasets.imdbws.com/title.ratings.tsv.gz\n",
        "\n",
        "# nameBasics\n",
        "!gzip -d name.basics.tsv.gz\n",
        "!mv name.basics.tsv nameBasics.tsv\n",
        "\n",
        "# titleAkas\n",
        "!gzip -d title.akas.tsv.gz\n",
        "!mv title.akas.tsv titleAkas.tsv\n",
        "\n",
        "# titleBasics\n",
        "!gzip -d title.basics.tsv.gz\n",
        "!mv title.basics.tsv titleBasics.tsv\n",
        "\n",
        "# titleCrew\n",
        "!gzip -d title.crew.tsv.gz\n",
        "!mv title.crew.tsv titleCrew.tsv\n",
        "\n",
        "# titleEpisode\n",
        "!gzip -d title.episode.tsv.gz\n",
        "!mv title.episode.tsv titleEpisode.tsv\n",
        "\n",
        "# titlePrincipals\n",
        "!gzip -d title.principals.tsv.gz\n",
        "!mv title.principals.tsv titlePrincipals.tsv\n",
        "\n",
        "# titleRatings\n",
        "!gzip -d title.ratings.tsv.gz\n",
        "!mv title.ratings.tsv titleRatings.tsv"
      ],
      "execution_count": 1,
      "outputs": []
    },
    {
      "cell_type": "code",
      "source": [
        "# Download boxOffice csv\n",
        "!wget -q https://raw.githubusercontent.com/MingruiZhangW/IMDbBigData/d47ceeecd1436f7d8936aef176514efe316bbf7b/boxoffice.csv"
      ],
      "metadata": {
        "id": "RUx0Ys2ngCir"
      },
      "execution_count": 2,
      "outputs": []
    },
    {
      "cell_type": "code",
      "metadata": {
        "deletable": false,
        "tags": [
          "setup"
        ],
        "id": "NyH7WzP0C1Gc"
      },
      "source": [
        "import os\n",
        "os.environ[\"JAVA_HOME\"] = \"/usr/lib/jvm/java-8-openjdk-amd64\"\n",
        "os.environ[\"SPARK_HOME\"] = \"/content/spark-3.2.3-bin-hadoop2.7\"\n",
        "\n",
        "import findspark\n",
        "findspark.init()\n",
        "\n",
        "from pyspark.sql import SparkSession\n",
        "import random\n",
        "\n",
        "spark = SparkSession.builder.appName(\"YourTest\").master(\"local[2]\").config('spark.ui.port', random.randrange(4000,5000)).getOrCreate()"
      ],
      "execution_count": 3,
      "outputs": []
    },
    {
      "cell_type": "code",
      "source": [
        "# nameBasics\n",
        "nameBasicRaw = spark.read.option(\"header\",\"true\").option(\"sep\", \"\\t\") \\\n",
        "        .option(\"multiLine\", \"true\") \\\n",
        "        .option(\"quote\",\"\\\"\") \\\n",
        "        .option(\"escape\",\"\\\"\") \\\n",
        "        .option(\"ignoreTrailingWhiteSpace\", True) \\\n",
        "        .csv(\"nameBasics.tsv\").cache()\n",
        "nameBasicRaw.createOrReplaceTempView(\"nameBasics\")\n",
        "\n",
        "# titleAkas\n",
        "titleAkasRaw = spark.read.option(\"header\",\"true\").option(\"sep\", \"\\t\") \\\n",
        "        .option(\"multiLine\", \"true\") \\\n",
        "        .option(\"quote\",\"\\\"\") \\\n",
        "        .option(\"escape\",\"\\\"\") \\\n",
        "        .option(\"ignoreTrailingWhiteSpace\", True) \\\n",
        "        .csv(\"titleAkas.tsv\").cache()\n",
        "titleAkasRaw.createOrReplaceTempView(\"titleAkas\")\n",
        "\n",
        "# titleBasics\n",
        "titleBasicsRaw = spark.read.option(\"header\",\"true\").option(\"sep\", \"\\t\") \\\n",
        "        .option(\"multiLine\", \"true\") \\\n",
        "        .option(\"quote\",\"\\\"\") \\\n",
        "        .option(\"escape\",\"\\\"\") \\\n",
        "        .option(\"ignoreTrailingWhiteSpace\", True) \\\n",
        "        .csv(\"titleBasics.tsv\").cache()\n",
        "titleBasicsRaw.createOrReplaceTempView(\"titleBasics\")\n",
        "\n",
        "# titleCrew\n",
        "titleCrewRaw = spark.read.option(\"header\",\"true\").option(\"sep\", \"\\t\") \\\n",
        "        .option(\"multiLine\", \"true\") \\\n",
        "        .option(\"quote\",\"\\\"\") \\\n",
        "        .option(\"escape\",\"\\\"\") \\\n",
        "        .option(\"ignoreTrailingWhiteSpace\", True) \\\n",
        "        .csv(\"titleCrew.tsv\").cache()\n",
        "titleCrewRaw.createOrReplaceTempView(\"titleCrew\")\n",
        "\n",
        "# titleEpisode\n",
        "titleEpisodeRaw = spark.read.option(\"header\",\"true\").option(\"sep\", \"\\t\") \\\n",
        "        .option(\"multiLine\", \"true\") \\\n",
        "        .option(\"quote\",\"\\\"\") \\\n",
        "        .option(\"escape\",\"\\\"\") \\\n",
        "        .option(\"ignoreTrailingWhiteSpace\", True) \\\n",
        "        .csv(\"titleEpisode.tsv\").cache()\n",
        "titleEpisodeRaw.createOrReplaceTempView(\"titleEpisode\")\n",
        "\n",
        "# titlePrincipals\n",
        "titlePrincipalsRaw = spark.read.option(\"header\",\"true\").option(\"sep\", \"\\t\") \\\n",
        "        .option(\"multiLine\", \"true\") \\\n",
        "        .option(\"quote\",\"\\\"\") \\\n",
        "        .option(\"escape\",\"\\\"\") \\\n",
        "        .option(\"ignoreTrailingWhiteSpace\", True) \\\n",
        "        .csv(\"titlePrincipals.tsv\").cache()\n",
        "titlePrincipalsRaw.createOrReplaceTempView(\"titlePrincipals\")\n",
        "\n",
        "# titleRatings\n",
        "titleRatingsRaw = spark.read.option(\"header\",\"true\").option(\"sep\", \"\\t\") \\\n",
        "        .option(\"multiLine\", \"true\") \\\n",
        "        .option(\"quote\",\"\\\"\") \\\n",
        "        .option(\"escape\",\"\\\"\") \\\n",
        "        .option(\"ignoreTrailingWhiteSpace\", True) \\\n",
        "        .csv(\"titleRatings.tsv\").cache()\n",
        "titleRatingsRaw.createOrReplaceTempView(\"titleRatings\")"
      ],
      "metadata": {
        "id": "A8JGriDgnT_C"
      },
      "execution_count": 4,
      "outputs": []
    },
    {
      "cell_type": "code",
      "source": [
        "# boxOffice\n",
        "boxOfficeRaw = spark.read.option(\"header\",\"true\").csv(\"boxoffice.csv\").cache()\n",
        "boxOfficeRaw.createOrReplaceTempView(\"boxOffice\")"
      ],
      "metadata": {
        "id": "cU4w09zDhi4S"
      },
      "execution_count": 5,
      "outputs": []
    },
    {
      "cell_type": "markdown",
      "source": [
        "> To see the data in table format, run the following code. "
      ],
      "metadata": {
        "id": "Fo9remit7YRc"
      }
    },
    {
      "cell_type": "code",
      "source": [
        "print(\"nameBasicRaw\")\n",
        "nameBasicRaw.show()\n",
        "print(nameBasicRaw.dtypes)\n",
        "print(\"\\n\")\n",
        "\n",
        "print(\"titleAkasRaw\")\n",
        "titleAkasRaw.show()\n",
        "print(titleAkasRaw.dtypes)\n",
        "print(\"\\n\")\n",
        "\n",
        "print(\"titleBasicsRaw\")\n",
        "titleBasicsRaw.show()\n",
        "print(titleBasicsRaw.dtypes)\n",
        "print(\"\\n\")\n",
        "\n",
        "print(\"titleCrewRaw\")\n",
        "titleCrewRaw.show()\n",
        "print(titleCrewRaw.dtypes)\n",
        "print(\"\\n\")\n",
        "\n",
        "print(\"titleEpisodeRaw\")\n",
        "titleEpisodeRaw.show()\n",
        "print(titleEpisodeRaw.dtypes)\n",
        "print(\"\\n\")\n",
        "\n",
        "print(\"titlePrincipalsRaw\")\n",
        "titlePrincipalsRaw.show()\n",
        "print(titlePrincipalsRaw.dtypes)\n",
        "print(\"\\n\")\n",
        "\n",
        "print(\"titleRatingsRaw\")\n",
        "titleRatingsRaw.show()\n",
        "print(titleRatingsRaw.dtypes)\n",
        "print(\"\\n\")\n",
        "\n",
        "print(\"boxOfficeRaw\")\n",
        "boxOfficeRaw.show()\n",
        "print(boxOfficeRaw.dtypes)\n",
        "print(\"\\n\")"
      ],
      "metadata": {
        "colab": {
          "base_uri": "https://localhost:8080/"
        },
        "id": "80hsDPv_7Xvn",
        "outputId": "c89ecc43-1f00-48c7-d96c-1abfe9c4f98b"
      },
      "execution_count": 6,
      "outputs": [
        {
          "output_type": "stream",
          "name": "stdout",
          "text": [
            "nameBasicRaw\n",
            "+---------+-------------------+---------+---------+--------------------+--------------------+\n",
            "|   nconst|        primaryName|birthYear|deathYear|   primaryProfession|      knownForTitles|\n",
            "+---------+-------------------+---------+---------+--------------------+--------------------+\n",
            "|nm0000001|       Fred Astaire|     1899|     1987|soundtrack,actor,...|tt0050419,tt00531...|\n",
            "|nm0000002|      Lauren Bacall|     1924|     2014|  actress,soundtrack|tt0038355,tt00373...|\n",
            "|nm0000003|    Brigitte Bardot|     1934|       \\N|actress,soundtrac...|tt0054452,tt00564...|\n",
            "|nm0000004|       John Belushi|     1949|     1982|actor,soundtrack,...|tt0080455,tt00779...|\n",
            "|nm0000005|     Ingmar Bergman|     1918|     2007|writer,director,a...|tt0060827,tt00839...|\n",
            "|nm0000006|     Ingrid Bergman|     1915|     1982|actress,soundtrac...|tt0038109,tt00368...|\n",
            "|nm0000007|    Humphrey Bogart|     1899|     1957|actor,soundtrack,...|tt0043265,tt00345...|\n",
            "|nm0000008|      Marlon Brando|     1924|     2004|actor,soundtrack,...|tt0047296,tt00787...|\n",
            "|nm0000009|     Richard Burton|     1925|     1984|actor,soundtrack,...|tt0061184,tt00597...|\n",
            "|nm0000010|       James Cagney|     1899|     1986|actor,soundtrack,...|tt0029870,tt00318...|\n",
            "|nm0000011|        Gary Cooper|     1901|     1961|actor,soundtrack,...|tt0044706,tt00279...|\n",
            "|nm0000012|        Bette Davis|     1908|     1989|actress,soundtrac...|tt0031210,tt00566...|\n",
            "|nm0000013|          Doris Day|     1922|     2019|soundtrack,actres...|tt0048317,tt00531...|\n",
            "|nm0000014|Olivia de Havilland|     1916|     2020|  actress,soundtrack|tt0031381,tt00298...|\n",
            "|nm0000015|         James Dean|     1931|     1955| actor,miscellaneous|tt0049261,tt00391...|\n",
            "|nm0000016|    Georges Delerue|     1925|     1992|composer,soundtra...|tt8847712,tt00699...|\n",
            "|nm0000017|   Marlene Dietrich|     1901|     1992|soundtrack,actres...|tt0055031,tt00211...|\n",
            "|nm0000018|       Kirk Douglas|     1916|     2020|actor,producer,so...|tt0054331,tt00807...|\n",
            "|nm0000019|   Federico Fellini|     1920|     1993|writer,director,a...|tt0056801,tt00537...|\n",
            "|nm0000020|        Henry Fonda|     1905|     1982|actor,producer,so...|tt0051207,tt00828...|\n",
            "+---------+-------------------+---------+---------+--------------------+--------------------+\n",
            "only showing top 20 rows\n",
            "\n",
            "[('nconst', 'string'), ('primaryName', 'string'), ('birthYear', 'string'), ('deathYear', 'string'), ('primaryProfession', 'string'), ('knownForTitles', 'string')]\n",
            "\n",
            "\n",
            "titleAkasRaw\n",
            "+---------+--------+--------------------+------+--------+-----------+--------------------+---------------+\n",
            "|  titleId|ordering|               title|region|language|      types|          attributes|isOriginalTitle|\n",
            "+---------+--------+--------------------+------+--------+-----------+--------------------+---------------+\n",
            "|tt0000001|       1|          Карменсіта|    UA|      \\N|imdbDisplay|                  \\N|              0|\n",
            "|tt0000001|       2|          Carmencita|    DE|      \\N|         \\N|       literal title|              0|\n",
            "|tt0000001|       3|Carmencita - span...|    HU|      \\N|imdbDisplay|                  \\N|              0|\n",
            "|tt0000001|       4|          Καρμενσίτα|    GR|      \\N|imdbDisplay|                  \\N|              0|\n",
            "|tt0000001|       5|          Карменсита|    RU|      \\N|imdbDisplay|                  \\N|              0|\n",
            "|tt0000001|       6|          Carmencita|    US|      \\N|imdbDisplay|                  \\N|              0|\n",
            "|tt0000001|       7|          Carmencita|    \\N|      \\N|   original|                  \\N|              1|\n",
            "|tt0000001|       8|      カルメンチータ|    JP|      ja|imdbDisplay|                  \\N|              0|\n",
            "|tt0000002|       1|Le clown et ses c...|    \\N|      \\N|   original|                  \\N|              1|\n",
            "|tt0000002|       2|Le clown et ses c...|    FR|      \\N|imdbDisplay|                  \\N|              0|\n",
            "|tt0000002|       3|   A bohóc és kutyái|    HU|      \\N|imdbDisplay|                  \\N|              0|\n",
            "|tt0000002|       4|Der Clown und sei...|    DE|      \\N|         \\N|       literal title|              0|\n",
            "|tt0000002|       5|Clovnul si cainii...|    RO|      \\N|imdbDisplay|                  \\N|              0|\n",
            "|tt0000002|       6|  Клоун и его собаки|    RU|      \\N|imdbDisplay|                  \\N|              0|\n",
            "|tt0000002|       7|The Clown and His...|    US|      \\N|         \\N|literal English t...|              0|\n",
            "|tt0000002|       8|          道化師と犬|    JP|      ja|imdbDisplay|                  \\N|              0|\n",
            "|tt0000003|       1|    Sarmanul Pierrot|    RO|      \\N|imdbDisplay|                  \\N|              0|\n",
            "|tt0000003|       2|     Szegény Pierrot|    HU|      \\N|imdbDisplay|                  \\N|              0|\n",
            "|tt0000003|       3|        哀れなピエロ|    JP|      ja|imdbDisplay|                  \\N|              0|\n",
            "|tt0000003|       4|        Бідний П'єро|    UA|      \\N|imdbDisplay|                  \\N|              0|\n",
            "+---------+--------+--------------------+------+--------+-----------+--------------------+---------------+\n",
            "only showing top 20 rows\n",
            "\n",
            "[('titleId', 'string'), ('ordering', 'string'), ('title', 'string'), ('region', 'string'), ('language', 'string'), ('types', 'string'), ('attributes', 'string'), ('isOriginalTitle', 'string')]\n",
            "\n",
            "\n",
            "titleBasicsRaw\n",
            "+---------+---------+--------------------+--------------------+-------+---------+-------+--------------+--------------------+\n",
            "|   tconst|titleType|        primaryTitle|       originalTitle|isAdult|startYear|endYear|runtimeMinutes|              genres|\n",
            "+---------+---------+--------------------+--------------------+-------+---------+-------+--------------+--------------------+\n",
            "|tt0000001|    short|          Carmencita|          Carmencita|      0|     1894|     \\N|             1|   Documentary,Short|\n",
            "|tt0000002|    short|Le clown et ses c...|Le clown et ses c...|      0|     1892|     \\N|             5|     Animation,Short|\n",
            "|tt0000003|    short|      Pauvre Pierrot|      Pauvre Pierrot|      0|     1892|     \\N|             4|Animation,Comedy,...|\n",
            "|tt0000004|    short|         Un bon bock|         Un bon bock|      0|     1892|     \\N|            12|     Animation,Short|\n",
            "|tt0000005|    short|    Blacksmith Scene|    Blacksmith Scene|      0|     1893|     \\N|             1|        Comedy,Short|\n",
            "|tt0000006|    short|   Chinese Opium Den|   Chinese Opium Den|      0|     1894|     \\N|             1|               Short|\n",
            "|tt0000007|    short|Corbett and Court...|Corbett and Court...|      0|     1894|     \\N|             1|         Short,Sport|\n",
            "|tt0000008|    short|Edison Kinetoscop...|Edison Kinetoscop...|      0|     1894|     \\N|             1|   Documentary,Short|\n",
            "|tt0000009|    movie|          Miss Jerry|          Miss Jerry|      0|     1894|     \\N|            45|             Romance|\n",
            "|tt0000010|    short| Leaving the Factory|La sortie de l'us...|      0|     1895|     \\N|             1|   Documentary,Short|\n",
            "|tt0000011|    short|Akrobatisches Pot...|Akrobatisches Pot...|      0|     1895|     \\N|             1|   Documentary,Short|\n",
            "|tt0000012|    short|The Arrival of a ...|L'arrivée d'un tr...|      0|     1896|     \\N|             1|   Documentary,Short|\n",
            "|tt0000013|    short|The Photographica...|Le débarquement d...|      0|     1895|     \\N|             1|   Documentary,Short|\n",
            "|tt0000014|    short| The Waterer Watered|   L'arroseur arrosé|      0|     1895|     \\N|             1|        Comedy,Short|\n",
            "|tt0000015|    short| Autour d'une cabine| Autour d'une cabine|      0|     1894|     \\N|             2|     Animation,Short|\n",
            "|tt0000016|    short|Boat Leaving the ...|Barque sortant du...|      0|     1895|     \\N|             1|   Documentary,Short|\n",
            "|tt0000017|    short|Italienischer Bau...|Italienischer Bau...|      0|     1895|     \\N|             1|   Documentary,Short|\n",
            "|tt0000018|    short|Das boxende Känguruh|Das boxende Känguruh|      0|     1895|     \\N|             1|               Short|\n",
            "|tt0000019|    short|    The Clown Barber|    The Clown Barber|      0|     1898|     \\N|            \\N|        Comedy,Short|\n",
            "|tt0000020|    short|      The Derby 1895|      The Derby 1895|      0|     1895|     \\N|             1|Documentary,Short...|\n",
            "+---------+---------+--------------------+--------------------+-------+---------+-------+--------------+--------------------+\n",
            "only showing top 20 rows\n",
            "\n",
            "[('tconst', 'string'), ('titleType', 'string'), ('primaryTitle', 'string'), ('originalTitle', 'string'), ('isAdult', 'string'), ('startYear', 'string'), ('endYear', 'string'), ('runtimeMinutes', 'string'), ('genres', 'string')]\n",
            "\n",
            "\n",
            "titleCrewRaw\n",
            "+---------+-------------------+---------+\n",
            "|   tconst|          directors|  writers|\n",
            "+---------+-------------------+---------+\n",
            "|tt0000001|          nm0005690|       \\N|\n",
            "|tt0000002|          nm0721526|       \\N|\n",
            "|tt0000003|          nm0721526|       \\N|\n",
            "|tt0000004|          nm0721526|       \\N|\n",
            "|tt0000005|          nm0005690|       \\N|\n",
            "|tt0000006|          nm0005690|       \\N|\n",
            "|tt0000007|nm0005690,nm0374658|       \\N|\n",
            "|tt0000008|          nm0005690|       \\N|\n",
            "|tt0000009|          nm0085156|nm0085156|\n",
            "|tt0000010|          nm0525910|       \\N|\n",
            "|tt0000011|          nm0804434|       \\N|\n",
            "|tt0000012|nm0525908,nm0525910|       \\N|\n",
            "|tt0000013|          nm0525910|       \\N|\n",
            "|tt0000014|          nm0525910|       \\N|\n",
            "|tt0000015|          nm0721526|       \\N|\n",
            "|tt0000016|          nm0525910|       \\N|\n",
            "|tt0000017|nm1587194,nm0804434|       \\N|\n",
            "|tt0000018|          nm0804434|       \\N|\n",
            "|tt0000019|          nm0932055|       \\N|\n",
            "|tt0000020|          nm0010291|       \\N|\n",
            "+---------+-------------------+---------+\n",
            "only showing top 20 rows\n",
            "\n",
            "[('tconst', 'string'), ('directors', 'string'), ('writers', 'string')]\n",
            "\n",
            "\n",
            "titleEpisodeRaw\n",
            "+---------+------------+------------+-------------+\n",
            "|   tconst|parentTconst|seasonNumber|episodeNumber|\n",
            "+---------+------------+------------+-------------+\n",
            "|tt0041951|   tt0041038|           1|            9|\n",
            "|tt0042816|   tt0989125|           1|           17|\n",
            "|tt0042889|   tt0989125|          \\N|           \\N|\n",
            "|tt0043426|   tt0040051|           3|           42|\n",
            "|tt0043631|   tt0989125|           2|           16|\n",
            "|tt0043693|   tt0989125|           2|            8|\n",
            "|tt0043710|   tt0989125|           3|            3|\n",
            "|tt0044093|   tt0959862|           1|            6|\n",
            "|tt0044668|   tt0044243|           2|           16|\n",
            "|tt0044901|   tt0989125|           3|           46|\n",
            "|tt0045519|   tt0989125|           4|           11|\n",
            "|tt0045960|   tt0044284|           2|            3|\n",
            "|tt0046135|   tt0989125|           4|            5|\n",
            "|tt0046150|   tt0341798|          \\N|           \\N|\n",
            "|tt0046855|   tt0046643|           1|            4|\n",
            "|tt0046864|   tt0989125|           5|           20|\n",
            "|tt0047810|   tt0914702|           3|           36|\n",
            "|tt0047852|   tt0047745|           1|           15|\n",
            "|tt0047858|   tt0046637|           2|            9|\n",
            "|tt0047961|   tt0989125|           6|            5|\n",
            "+---------+------------+------------+-------------+\n",
            "only showing top 20 rows\n",
            "\n",
            "[('tconst', 'string'), ('parentTconst', 'string'), ('seasonNumber', 'string'), ('episodeNumber', 'string')]\n",
            "\n",
            "\n",
            "titlePrincipalsRaw\n",
            "+---------+--------+---------+---------------+--------------------+--------------+\n",
            "|   tconst|ordering|   nconst|       category|                 job|    characters|\n",
            "+---------+--------+---------+---------------+--------------------+--------------+\n",
            "|tt0000001|       1|nm1588970|           self|                  \\N|      [\"Self\"]|\n",
            "|tt0000001|       2|nm0005690|       director|                  \\N|            \\N|\n",
            "|tt0000001|       3|nm0374658|cinematographer|director of photo...|            \\N|\n",
            "|tt0000002|       1|nm0721526|       director|                  \\N|            \\N|\n",
            "|tt0000002|       2|nm1335271|       composer|                  \\N|            \\N|\n",
            "|tt0000003|       1|nm0721526|       director|                  \\N|            \\N|\n",
            "|tt0000003|       2|nm1770680|       producer|            producer|            \\N|\n",
            "|tt0000003|       3|nm1335271|       composer|                  \\N|            \\N|\n",
            "|tt0000003|       4|nm5442200|         editor|                  \\N|            \\N|\n",
            "|tt0000004|       1|nm0721526|       director|                  \\N|            \\N|\n",
            "|tt0000004|       2|nm1335271|       composer|                  \\N|            \\N|\n",
            "|tt0000005|       1|nm0443482|          actor|                  \\N|[\"Blacksmith\"]|\n",
            "|tt0000005|       2|nm0653042|          actor|                  \\N| [\"Assistant\"]|\n",
            "|tt0000005|       3|nm0005690|       director|                  \\N|            \\N|\n",
            "|tt0000005|       4|nm0249379|       producer|            producer|            \\N|\n",
            "|tt0000006|       1|nm0005690|       director|                  \\N|            \\N|\n",
            "|tt0000007|       1|nm0179163|          actor|                  \\N|            \\N|\n",
            "|tt0000007|       2|nm0183947|          actor|                  \\N|            \\N|\n",
            "|tt0000007|       3|nm0005690|       director|                  \\N|            \\N|\n",
            "|tt0000007|       4|nm0374658|       director|                  \\N|            \\N|\n",
            "+---------+--------+---------+---------------+--------------------+--------------+\n",
            "only showing top 20 rows\n",
            "\n",
            "[('tconst', 'string'), ('ordering', 'string'), ('nconst', 'string'), ('category', 'string'), ('job', 'string'), ('characters', 'string')]\n",
            "\n",
            "\n",
            "titleRatingsRaw\n",
            "+---------+-------------+--------+\n",
            "|   tconst|averageRating|numVotes|\n",
            "+---------+-------------+--------+\n",
            "|tt0000001|          5.7|    1925|\n",
            "|tt0000002|          5.8|     261|\n",
            "|tt0000003|          6.5|    1741|\n",
            "|tt0000004|          5.6|     176|\n",
            "|tt0000005|          6.2|    2554|\n",
            "|tt0000006|          5.1|     175|\n",
            "|tt0000007|          5.4|     797|\n",
            "|tt0000008|          5.4|    2069|\n",
            "|tt0000009|          5.3|     200|\n",
            "|tt0000010|          6.9|    6994|\n",
            "|tt0000011|          5.3|     357|\n",
            "|tt0000012|          7.4|   12001|\n",
            "|tt0000013|          5.7|    1850|\n",
            "|tt0000014|          7.1|    5381|\n",
            "|tt0000015|          6.2|    1035|\n",
            "|tt0000016|          5.9|    1460|\n",
            "|tt0000017|          4.6|     318|\n",
            "|tt0000018|          5.3|     583|\n",
            "|tt0000019|          5.1|      31|\n",
            "|tt0000020|          4.8|     351|\n",
            "+---------+-------------+--------+\n",
            "only showing top 20 rows\n",
            "\n",
            "[('tconst', 'string'), ('averageRating', 'string'), ('numVotes', 'string')]\n",
            "\n",
            "\n",
            "boxOfficeRaw\n",
            "+----+--------------------+-------------+--------+--------------------+\n",
            "|Year|               Title|        Gross|Theaters|         Distributor|\n",
            "+----+--------------------+-------------+--------+--------------------+\n",
            "|2022|   Top Gun: Maverick|$718,162,243 |   4,751|  Paramount Pictures|\n",
            "|2022|Doctor Strange in...|$411,331,607 |   4,534|Walt Disney Studi...|\n",
            "|2022|Black Panther: Wa...|$410,848,933 |   4,396|Walt Disney Studi...|\n",
            "|2022|Jurassic World: D...|$376,009,080 |   4,697|  Universal Pictures|\n",
            "|2022|Minions: The Rise...|$369,500,210 |   4,427|  Universal Pictures|\n",
            "|2022|          The Batman|$369,345,583 |   4,417|        Warner Bros.|\n",
            "|2022|Thor: Love and Th...|$343,256,830 |   4,375|Walt Disney Studi...|\n",
            "|2022|Spider-Man: No Wa...|$231,808,708 |   4,336|Sony Pictures Ent...|\n",
            "|2022|Sonic the Hedgehog 2|$190,872,904 |   4,258|  Paramount Pictures|\n",
            "|2022|          Black Adam|$166,956,034 |   4,402|        Warner Bros.|\n",
            "|2021|Spider-Man: No Wa...|$572,984,769 |   4,336|Sony Pictures Ent...|\n",
            "|2021|Shang-Chi and the...|$224,543,292 |   4,300|Walt Disney Studi...|\n",
            "|2021|Venom: Let There ...|$212,609,036 |   4,225|Sony Pictures Ent...|\n",
            "|2021|         Black Widow|$183,651,655 |   4,275|Walt Disney Studi...|\n",
            "|2021|   F9: The Fast Saga|$173,005,945 |   4,203|  Universal Pictures|\n",
            "|2021|            Eternals|$164,616,321 |   4,090|Walt Disney Studi...|\n",
            "|2021|      No Time to Die|$160,772,007 |   4,407|Metro-Goldwyn-May...|\n",
            "|2021|A Quiet Place Par...|$160,072,261 |   3,744|  Paramount Pictures|\n",
            "|2021|Ghostbusters: Aft...|$122,378,960 |   4,315|Sony Pictures Ent...|\n",
            "|2021|            Free Guy|$121,626,598 |   4,165|20th Century Studios|\n",
            "+----+--------------------+-------------+--------+--------------------+\n",
            "only showing top 20 rows\n",
            "\n",
            "[('Year', 'string'), ('Title', 'string'), ('Gross', 'string'), ('Theaters', 'string'), ('Distributor', 'string')]\n",
            "\n",
            "\n"
          ]
        }
      ]
    },
    {
      "cell_type": "markdown",
      "source": [
        "## Movie Production Team Selection - Ratings \n",
        "\n",
        "- Input:\n",
        "1. Genres\n",
        "2. IsAdult\n",
        "3. Maximum Age\n",
        "4. Vote/Rate Ratio\n",
        "\n",
        "> Possible Selection of Genres\n",
        "- Action\n",
        "- Adventure\n",
        "- Animation\n",
        "- Biography\n",
        "- Comedy\n",
        "- Crime\t\n",
        "- Documentary\n",
        "- Drama\n",
        "- Family\n",
        "- Fantasy\n",
        "- History\t\n",
        "- Horror\n",
        "- Music\n",
        "- Musical\n",
        "- Mystery\n",
        "- Romance\n",
        "- Sci-Fi\t\n",
        "- Short\n",
        "- Sport\n",
        "- Superhero\n",
        "- Thriller\n",
        "- War\n",
        "- Western\n",
        "- \"*\" means all\n",
        "\n",
        "> The larger the Vote/Rate Ratio is, the more popular the samples are. (The value is between 0 - 1) Note that the maximum amount of votes currently is around 2,670,818. This value should be considered carefully for better results.\n",
        "\n",
        "- Output:\n",
        "1. Possible Crews\n",
        "2. Possible Actors"
      ],
      "metadata": {
        "id": "Gc2Xp6qb7Pdh"
      }
    },
    {
      "cell_type": "code",
      "source": [
        "from pyspark.sql.functions import *\n",
        "import pandas as pd\n",
        "import numpy as np\n",
        "import matplotlib.pyplot as plt\n",
        "from matplotlib.ticker import StrMethodFormatter\n",
        "import datetime\n",
        "\n",
        "genresString = \"action,adventure,animation,biography,comedy,crime,documentary,\\\n",
        "         drama,family,fantasy,history,horror,music,musical,mystery,romance,\\\n",
        "         sci-fi,short,sport,superhero,thriller,war,western\"\n",
        "\n",
        "def movieProductionToolRatings(genresArrayString, isAdult, maxAge, voteRateRatio):\n",
        "  # Make sure that we only deal with movie\n",
        "  titleBasicsMovie = titleBasicsRaw.filter(titleBasicsRaw.titleType == \"movie\")\n",
        "\n",
        "  # Process rateVoteRatio first\n",
        "  titleRatingsWithVRR = titleRatingsRaw.withColumn(\"voteRateRatio\", titleRatingsRaw.numVotes/titleRatingsRaw.averageRating)\n",
        "  maxVRR = titleRatingsWithVRR.orderBy(\"voteRateRatio\", ascending=False).head()[3]\n",
        "  VRRfilter = maxVRR * voteRateRatio\n",
        "\n",
        "  # Join titleBasics and titleRatingsWithVRR\n",
        "  titleBasicsMovieWithRating = titleRatingsWithVRR.join(titleBasicsMovie, titleRatingsWithVRR.tconst == titleBasicsMovie.tconst, \"inner\")\\\n",
        "                           .drop(titleRatingsWithVRR.tconst)\n",
        "\n",
        "  # Filter use VRRfilter\n",
        "  titleRatingsWithVRRBestRatings = titleBasicsMovieWithRating.filter(titleBasicsMovieWithRating.voteRateRatio >= VRRfilter)\n",
        "\n",
        "  # Now start to filter genres and isAdult \n",
        "  # We first preprocess the data, we conert the genres column string to lowercase and split is into a array store\n",
        "  # it into a seqarate column to compare with the genresArrayString. genresArrayString is also added and splitted\n",
        "  # as a new column in the table. array_intersect will check whether they have common items. If they do have common items\n",
        "  # we keep them. (filter(size(array_intersect(col(\"genresCompareI\"), col(\"genresCompareO\"))) >= 1)\n",
        "  filterGenres = titleRatingsWithVRRBestRatings.withColumn(\"genresCompareO\", lower(col(\"genres\")))\n",
        "  filterGenres = filterGenres.withColumn(\"genresCompareO\", split(col(\"genresCompareO\"), \",\"))\n",
        "  filterGenres = filterGenres.withColumn('genresCompareI', lit(genresArrayString))\n",
        "  filterGenres = filterGenres.withColumn('genresCompareI', split(col(\"genresCompareI\"), \",\"))\\\n",
        "                 .filter(size(array_intersect(col(\"genresCompareI\"), col(\"genresCompareO\"))) >= 1)\n",
        "  filterGenres = filterGenres.filter(titleRatingsWithVRRBestRatings.isAdult == ('1' if isAdult else '0'))\n",
        "  filterGenres = filterGenres.drop(\"averageRating\", \"numVotes\", \"voteRateRatio\", \"titleType\", \"isAdult\",\\\n",
        "                    \"startYear\", \"endYear\", \"runtimeMinutes\", \"genres\", \"genresCompareO\", 'genresCompareI')\n",
        "  \n",
        "  # Get the principals crew and join nameBasicRaw\n",
        "  principalsCrews = filterGenres.join(titlePrincipalsRaw, titlePrincipalsRaw.tconst == filterGenres.tconst, \"inner\")\\\n",
        "                  .drop(titlePrincipalsRaw.tconst).drop(titlePrincipalsRaw.ordering).drop(titlePrincipalsRaw.characters)\n",
        "  principalsCrews = principalsCrews.join(nameBasicRaw, titlePrincipalsRaw.nconst == nameBasicRaw.nconst, \"inner\")\\\n",
        "                    .drop(principalsCrews.tconst).drop(nameBasicRaw.nconst)\n",
        "\n",
        "  # Filter out the people that are passed away or older than maxAge\n",
        "  # Cache the result for future use\n",
        "  thisYear = datetime.datetime.now().year\n",
        "  birthYearToFilter = thisYear - maxAge\n",
        "  principalsCrewsCache = principalsCrews.filter(principalsCrews.deathYear == \"\\\\N\").filter(principalsCrews.birthYear >= birthYearToFilter).cache()\n",
        "  candidates = principalsCrewsCache\n",
        "\n",
        "  # Now we use knownForTitles to calculate the overall average ratings\n",
        "  # This is achieved by using split to firstly convert the string into array\n",
        "  # and explode it into multiple rows and each row will have a title within\n",
        "  # the knownForTitles\n",
        "  candidates = candidates.withColumn(\"titlesArray\", split(candidates.knownForTitles, \",\"))\n",
        "  candidates = candidates.withColumn(\"titleSep\", explode(candidates.titlesArray))\n",
        "  candidates = candidates.drop(candidates.knownForTitles).drop(candidates.titlesArray)\n",
        "\n",
        "  # Join titleRatingsRaw to get the ratings for each title\n",
        "  candidates = candidates.join(titleRatingsRaw, candidates.titleSep == titleRatingsRaw.tconst, \"inner\")\\\n",
        "               .drop(candidates.titleSep).drop(titleRatingsRaw.numVotes)\n",
        "  \n",
        "  # Use groupBy and avg to find the average ratings\n",
        "  # Inorder to use avg, the data type needs to be float, use cast\n",
        "  candidates = candidates.withColumn(\"averageRating\", candidates[\"averageRating\"].cast(\"float\"))\n",
        "  candidatesAvgRatings = candidates.groupBy(\"primaryName\").avg(\"averageRating\")\n",
        "  candidatesAvgRatings = candidatesAvgRatings.withColumnRenamed(\"avg(averageRating)\", \"averageRating\")\n",
        "\n",
        "  # Now join the principalsCrewsCache to get the pre-final table\n",
        "  principalsCrewsPreFinal = principalsCrewsCache.join(candidatesAvgRatings, principalsCrewsCache.primaryName == candidatesAvgRatings.primaryName, \"inner\")\\\n",
        "                          .drop(principalsCrewsCache.primaryName)\\\n",
        "                          .drop(\"primaryTitle\", \"originalTitle\", \"nconst\", \\\n",
        "                             \"job\", \"birthYear\", \"deathYear\", \"primaryProfession\", \"knownForTitles\").distinct()\n",
        "\n",
        "  # For all the principals crews collected, we find all job categories and generate its data frame\n",
        "  listCategory = [list(x.asDict().values())[0] for x in principalsCrewsPreFinal.select(\"category\").distinct().collect()]\n",
        "  listCategory.sort()\n",
        "  resultArray = [principalsCrewsPreFinal.where(principalsCrewsPreFinal.category == x) for x in listCategory]\n",
        "  \n",
        "  # We will take the first 5 as the result crew for each job category by ranking the averageRating\n",
        "  if len(resultArray) == 0:\n",
        "    print(\"Sorry, no recommendations are available under these conditions.\")\n",
        "\n",
        "  counter = 0\n",
        "  for result in resultArray:\n",
        "    print(\"Possible \" + listCategory[counter] + \"\\n\")\n",
        "\n",
        "    # Double orderBy to make sure that the graph is drawn correctly\n",
        "    result = result.orderBy(\"averageRating\", ascending=False).limit(5).orderBy(\"averageRating\")\n",
        "\n",
        "    # Draw the diagram\n",
        "    pdDF = result.toPandas()\n",
        "    pdDF['averageRating'] = pdDF['averageRating'].astype(float)\n",
        "    pdDF.plot.barh(x='primaryName', y='averageRating')\n",
        "\n",
        "    # # Add labels to the x and y axes\n",
        "    plt.xlabel(\"Average Rating\")\n",
        "    plt.ylabel(listCategory[counter])\n",
        "\n",
        "    counter = counter + 1\n",
        "    # Show the plot\n",
        "    plt.show()\n",
        "\n",
        "###################################################################################################################\n",
        "#  the user interface\n",
        "###################################################################################################################\n",
        "\n",
        "while True:\n",
        "  inputVoteRateRatio = None\n",
        "  inputIsAdult = None\n",
        "  inputGenreOriginal = None\n",
        "  inputMaxage = None\n",
        "  quitP = False\n",
        "\n",
        "  # Genres\n",
        "  continueG = True\n",
        "  while continueG:\n",
        "    inputGenreOriginal = input(\"Input movie genres (q to quit): \")\n",
        "    \n",
        "    # Quit mechanism and *\n",
        "    if inputGenreOriginal == 'q':\n",
        "      quitP = True\n",
        "      break\n",
        "    elif inputGenreOriginal == '*':\n",
        "      inputGenreOriginal = genresString\n",
        "      break\n",
        "    \n",
        "    \n",
        "    inputGenreSp = inputGenreOriginal.split(',')\n",
        "\n",
        "    toContinue = False\n",
        "    for item in inputGenreSp:\n",
        "      item = item.lower()\n",
        "      if not item in genresString:\n",
        "        print(\"Genres invalid! Please input a valid genre array separated by comma with no space.\")\n",
        "        toContinue = True\n",
        "        break\n",
        "    continueG = toContinue\n",
        "  \n",
        "  # Quit mechanism\n",
        "  if quitP:\n",
        "    break;\n",
        "\n",
        "  # Is adult\n",
        "  while True:\n",
        "    inputIsAdult = input(\"Input is adult option: \")\n",
        "    if inputIsAdult.lower() != \"true\" and inputIsAdult.lower() != \"false\":\n",
        "      print(\"Invalid! Please input true or false.\")\n",
        "      continue\n",
        "    break\n",
        "\n",
        "  # Max age\n",
        "  while True:\n",
        "    try:\n",
        "      inputMaxage = int(input(\"Input max age (int): \"))\n",
        "      break\n",
        "    except:\n",
        "      print(\"That's not a valid int!\")\n",
        "\n",
        "  # Vote rate ratio\n",
        "  while True:\n",
        "    try:\n",
        "      inputVoteRateRatio = float(input(\"Input vote rate ratio (float): \"))\n",
        "      break\n",
        "    except:\n",
        "      print(\"That's not a valid float!\")\n",
        "\n",
        "  # Main function\n",
        "  movieProductionToolRatings(inputGenreOriginal, True if inputIsAdult.lower() == 'true' else False, inputMaxage, inputVoteRateRatio)"
      ],
      "metadata": {
        "colab": {
          "base_uri": "https://localhost:8080/",
          "height": 1000
        },
        "id": "kZST2X879BeZ",
        "outputId": "da2dd7c9-abf5-42e8-e47d-85a478b19d08"
      },
      "execution_count": 60,
      "outputs": [
        {
          "output_type": "stream",
          "name": "stdout",
          "text": [
            "Input movie genres (q to quit): crime\n",
            "Input is adult option: false\n",
            "Input max age (int): 80\n",
            "Input vote rate ratio (float): 0.1\n",
            "Possible actor\n",
            "\n"
          ]
        },
        {
          "output_type": "display_data",
          "data": {
            "text/plain": [
              "<Figure size 432x288 with 1 Axes>"
            ],
            "image/png": "[encoded data removed]"
          },
          "metadata": {
            "needs_background": "light"
          }
        },
        {
          "output_type": "stream",
          "name": "stdout",
          "text": [
            "Possible actress\n",
            "\n"
          ]
        },
        {
          "output_type": "display_data",
          "data": {
            "text/plain": [
              "<Figure size 432x288 with 1 Axes>"
            ],
            "image/png": "[encoded data removed]"
          },
          "metadata": {
            "needs_background": "light"
          }
        },
        {
          "output_type": "stream",
          "name": "stdout",
          "text": [
            "Possible cinematographer\n",
            "\n"
          ]
        },
        {
          "output_type": "display_data",
          "data": {
            "text/plain": [
              "<Figure size 432x288 with 1 Axes>"
            ],
            "image/png": "[encoded data removed]"
          },
          "metadata": {
            "needs_background": "light"
          }
        },
        {
          "output_type": "stream",
          "name": "stdout",
          "text": [
            "Possible composer\n",
            "\n"
          ]
        },
        {
          "output_type": "display_data",
          "data": {
            "text/plain": [
              "<Figure size 432x288 with 1 Axes>"
            ],
            "image/png": "[encoded data removed]"
          },
          "metadata": {
            "needs_background": "light"
          }
        },
        {
          "output_type": "stream",
          "name": "stdout",
          "text": [
            "Possible director\n",
            "\n"
          ]
        },
        {
          "output_type": "display_data",
          "data": {
            "text/plain": [
              "<Figure size 432x288 with 1 Axes>"
            ],
            "image/png": "[encoded data removed]"
          },
          "metadata": {
            "needs_background": "light"
          }
        },
        {
          "output_type": "stream",
          "name": "stdout",
          "text": [
            "Possible editor\n",
            "\n"
          ]
        },
        {
          "output_type": "display_data",
          "data": {
            "text/plain": [
              "<Figure size 432x288 with 1 Axes>"
            ],
            "image/png": "[encoded data removed]"
          },
          "metadata": {
            "needs_background": "light"
          }
        },
        {
          "output_type": "stream",
          "name": "stdout",
          "text": [
            "Possible producer\n",
            "\n"
          ]
        },
        {
          "output_type": "display_data",
          "data": {
            "text/plain": [
              "<Figure size 432x288 with 1 Axes>"
            ],
            "image/png": "[encoded data removed]"
          },
          "metadata": {
            "needs_background": "light"
          }
        },
        {
          "output_type": "stream",
          "name": "stdout",
          "text": [
            "Possible production_designer\n",
            "\n"
          ]
        },
        {
          "output_type": "display_data",
          "data": {
            "text/plain": [
              "<Figure size 432x288 with 1 Axes>"
            ],
            "image/png": "[encoded data removed]"
          },
          "metadata": {
            "needs_background": "light"
          }
        },
        {
          "output_type": "stream",
          "name": "stdout",
          "text": [
            "Possible writer\n",
            "\n"
          ]
        },
        {
          "output_type": "display_data",
          "data": {
            "text/plain": [
              "<Figure size 432x288 with 1 Axes>"
            ],
            "image/png": "[encoded data removed]"
          },
          "metadata": {
            "needs_background": "light"
          }
        },
        {
          "name": "stdout",
          "output_type": "stream",
          "text": [
            "Input movie genres (q to quit): q\n"
          ]
        }
      ]
    }
  ]
}