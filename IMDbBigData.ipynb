{
  "nbformat": 4,
  "nbformat_minor": 0,
  "metadata": {
    "kernelspec": {
      "display_name": "Python 3",
      "language": "python",
      "name": "python3"
    },
    "language_info": {
      "codemirror_mode": {
        "name": "ipython",
        "version": 3
      },
      "file_extension": ".py",
      "mimetype": "text/x-python",
      "name": "python",
      "nbconvert_exporter": "python",
      "pygments_lexer": "ipython3",
      "version": "3.6.7"
    },
    "colab": {
      "provenance": []
    }
  },
  "cells": [
    {
      "cell_type": "markdown",
      "metadata": {
        "deletable": false,
        "tags": [
          "instructions"
        ],
        "id": "L40eXcn6C1GU"
      },
      "source": [
        "## IMDb Datasets Analysis"
      ]
    },
    {
      "cell_type": "markdown",
      "metadata": {
        "deletable": false,
        "tags": [
          "instructions"
        ],
        "id": "zbZw9WlgC1GZ"
      },
      "source": [
        "* **Collaborators:** Mingrui Zhang\n",
        "* **ID:** 20985422"
      ]
    },
    {
      "cell_type": "code",
      "metadata": {
        "deletable": false,
        "tags": [
          "setup"
        ],
        "id": "NWzWM_87C1Gb"
      },
      "source": [
        "# Java, Spark install\n",
        "!apt-get update -qq > /dev/null\n",
        "!apt-get install openjdk-8-jdk-headless -qq > /dev/null\n",
        "!wget -q https://www.student.cs.uwaterloo.ca/~cs451/content/cs431/spark-2.4.8-bin-hadoop2.7.tgz\n",
        "!tar xf spark-2.4.8-bin-hadoop2.7.tgz\n",
        "!pip install -q findspark\n",
        "\n",
        "# Download IMDb Datasets and unzip it as tsv files\n",
        "!wget -q https://datasets.imdbws.com/name.basics.tsv.gz\n",
        "!wget -q https://datasets.imdbws.com/title.akas.tsv.gz\n",
        "!wget -q https://datasets.imdbws.com/title.basics.tsv.gz\n",
        "!wget -q https://datasets.imdbws.com/title.crew.tsv.gz\n",
        "!wget -q https://datasets.imdbws.com/title.episode.tsv.gz\n",
        "!wget -q https://datasets.imdbws.com/title.principals.tsv.gz\n",
        "!wget -q https://datasets.imdbws.com/title.ratings.tsv.gz\n",
        "\n",
        "# nameBasics\n",
        "!gzip -d name.basics.tsv.gz\n",
        "!mv name.basics.tsv nameBasics.tsv\n",
        "\n",
        "# titleAkas\n",
        "!gzip -d title.akas.tsv.gz\n",
        "!mv title.akas.tsv titleAkas.tsv\n",
        "\n",
        "# titleBasics\n",
        "!gzip -d title.basics.tsv.gz\n",
        "!mv title.basics.tsv titleBasics.tsv\n",
        "\n",
        "# titleCrew\n",
        "!gzip -d title.crew.tsv.gz\n",
        "!mv title.crew.tsv titleCrew.tsv\n",
        "\n",
        "# titleEpisode\n",
        "!gzip -d title.episode.tsv.gz\n",
        "!mv title.episode.tsv titleEpisode.tsv\n",
        "\n",
        "# titlePrincipals\n",
        "!gzip -d title.principals.tsv.gz\n",
        "!mv title.principals.tsv titlePrincipals.tsv\n",
        "\n",
        "# titleRatings\n",
        "!gzip -d title.ratings.tsv.gz\n",
        "!mv title.ratings.tsv titleRatings.tsv"
      ],
      "execution_count": 8,
      "outputs": []
    },
    {
      "cell_type": "code",
      "metadata": {
        "deletable": false,
        "tags": [
          "setup"
        ],
        "id": "NyH7WzP0C1Gc"
      },
      "source": [
        "import os\n",
        "os.environ[\"JAVA_HOME\"] = \"/usr/lib/jvm/java-8-openjdk-amd64\"\n",
        "os.environ[\"SPARK_HOME\"] = \"/content/spark-2.4.8-bin-hadoop2.7\"\n",
        "\n",
        "import findspark\n",
        "findspark.init()\n",
        "\n",
        "from pyspark.sql import SparkSession\n",
        "import random\n",
        "\n",
        "spark = SparkSession.builder.appName(\"YourTest\").master(\"local[2]\").config('spark.ui.port', random.randrange(4000,5000)).getOrCreate()"
      ],
      "execution_count": 9,
      "outputs": []
    },
    {
      "cell_type": "code",
      "source": [
        "nameBasicRaw = spark.read.option(\"header\",\"true\").option(\"sep\", \"\\t\") \\\n",
        "        .option(\"multiLine\", \"true\") \\\n",
        "        .option(\"quote\",\"\\\"\") \\\n",
        "        .option(\"escape\",\"\\\"\") \\\n",
        "        .option(\"ignoreTrailingWhiteSpace\", True) \\\n",
        "        .csv(\"nameBasics.tsv\")\n",
        "\n",
        "nameBasicRaw.show()\n",
        "\n",
        "nameBasicRaw.dtypes"
      ],
      "metadata": {
        "colab": {
          "base_uri": "https://localhost:8080/"
        },
        "id": "A8JGriDgnT_C",
        "outputId": "83b2b25d-3866-4830-f66b-65f0dacaa907"
      },
      "execution_count": 12,
      "outputs": [
        {
          "output_type": "stream",
          "name": "stdout",
          "text": [
            "+---------+-------------------+---------+---------+--------------------+--------------------+\n",
            "|   nconst|        primaryName|birthYear|deathYear|   primaryProfession|      knownForTitles|\n",
            "+---------+-------------------+---------+---------+--------------------+--------------------+\n",
            "|nm0000001|       Fred Astaire|     1899|     1987|soundtrack,actor,...|tt0072308,tt00531...|\n",
            "|nm0000002|      Lauren Bacall|     1924|     2014|  actress,soundtrack|tt0117057,tt00383...|\n",
            "|nm0000003|    Brigitte Bardot|     1934|       \\N|actress,soundtrac...|tt0056404,tt00573...|\n",
            "|nm0000004|       John Belushi|     1949|     1982|actor,soundtrack,...|tt0078723,tt00804...|\n",
            "|nm0000005|     Ingmar Bergman|     1918|     2007|writer,director,a...|tt0050976,tt00839...|\n",
            "|nm0000006|     Ingrid Bergman|     1915|     1982|actress,soundtrac...|tt0077711,tt00381...|\n",
            "|nm0000007|    Humphrey Bogart|     1899|     1957|actor,soundtrack,...|tt0037382,tt00345...|\n",
            "|nm0000008|      Marlon Brando|     1924|     2004|actor,soundtrack,...|tt0078788,tt00708...|\n",
            "|nm0000009|     Richard Burton|     1925|     1984|actor,soundtrack,...|tt0057877,tt00597...|\n",
            "|nm0000010|       James Cagney|     1899|     1986|actor,soundtrack,...|tt0035575,tt00420...|\n",
            "|nm0000011|        Gary Cooper|     1901|     1961|actor,soundtrack,...|tt0027996,tt00341...|\n",
            "|nm0000012|        Bette Davis|     1908|     1989|actress,soundtrac...|tt0056687,tt00312...|\n",
            "|nm0000013|          Doris Day|     1922|     2019|soundtrack,actres...|tt0049470,tt00483...|\n",
            "|nm0000014|Olivia de Havilland|     1916|     2020|  actress,soundtrack|tt0040806,tt00298...|\n",
            "|nm0000015|         James Dean|     1931|     1955| actor,miscellaneous|tt0039123,tt00492...|\n",
            "|nm0000016|    Georges Delerue|     1925|     1992|composer,soundtra...|tt8847712,tt00963...|\n",
            "|nm0000017|   Marlene Dietrich|     1901|     1992|soundtrack,actres...|tt0055031,tt00211...|\n",
            "|nm0000018|       Kirk Douglas|     1916|     2020|actor,producer,so...|tt0080736,tt00494...|\n",
            "|nm0000019|   Federico Fellini|     1920|     1993|writer,director,a...|tt0053779,tt00568...|\n",
            "|nm0000020|        Henry Fonda|     1905|     1982|actor,producer,so...|tt0050083,tt00828...|\n",
            "+---------+-------------------+---------+---------+--------------------+--------------------+\n",
            "only showing top 20 rows\n",
            "\n"
          ]
        },
        {
          "output_type": "execute_result",
          "data": {
            "text/plain": [
              "[('nconst', 'string'),\n",
              " ('primaryName', 'string'),\n",
              " ('birthYear', 'string'),\n",
              " ('deathYear', 'string'),\n",
              " ('primaryProfession', 'string'),\n",
              " ('knownForTitles', 'string')]"
            ]
          },
          "metadata": {},
          "execution_count": 12
        }
      ]
    }
  ]
}